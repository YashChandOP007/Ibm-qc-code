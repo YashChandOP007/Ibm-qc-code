{
 "cells": [
  {
   "cell_type": "code",
   "execution_count": 7,
   "id": "d77fd1e3",
   "metadata": {},
   "outputs": [
    {
     "name": "stderr",
     "output_type": "stream",
     "text": [
      "ibmqfactory.load_account:WARNING:2023-11-17 21:52:48,934: Credentials are already in use. The existing account in the session will be replaced.\n",
      "C:\\Users\\DELL\\AppData\\Local\\Temp\\ipykernel_5656\\1249773447.py:87: DeprecationWarning: Using a qobj for run() is deprecated as of qiskit-aer 0.9.0 and will be removed no sooner than 3 months from that release date. Transpiled circuits should now be passed directly using `backend.run(circuits, **run_options).\n",
      "  result = simulator.run(assemble(transpiled_circuit)).result()\n"
     ]
    },
    {
     "data": {
      "image/png": "[encoded data removed]",
      "text/plain": [
       "<Figure size 700x500 with 1 Axes>"
      ]
     },
     "execution_count": 7,
     "metadata": {},
     "output_type": "execute_result"
    }
   ],
   "source": [
    "from qiskit import QuantumCircuit, Aer, transpile, assemble, IBMQ\n",
    "from qiskit.visualization import plot_histogram\n",
    "\n",
    "# Load your IBM Quantum Experience account\n",
    "IBMQ.save_account('460c8dda94aea888724dfc4bbb2e142c8a04074a3264623ed3523acef02e3798a8a843a9918ac29d36ca35d78a304e1be68ac4c1bc5f5d1889867033f72ee07f', overwrite=True)\n",
    "IBMQ.load_account()\n",
    "provider = IBMQ.get_provider('ibm-q')\n",
    "qcomp = provider.get_backend('ibm_lagos')\n",
    "\n",
    "def grover_circuit(n, marked_item):\n",
    "    # Create a quantum circuit with n qubits and n classical bits\n",
    "    grover_circ = QuantumCircuit(n, n)\n",
    "\n",
    "    # Apply Hadamard gate to all qubits\n",
    "    grover_circ.h(range(n))\n",
    "\n",
    "    # Apply the Grover iteration\n",
    "    for _ in range(int(n**0.5)):  # Number of iterations for amplitude amplification\n",
    "        # Oracle: Mark the item\n",
    "        grover_circ.barrier()\n",
    "        for i in range(n):\n",
    "            grover_circ.x(i) if marked_item[i] == '1' else None\n",
    "        grover_circ.append(oracle(n), range(n))\n",
    "        for i in range(n):\n",
    "            grover_circ.x(i) if marked_item[i] == '1' else None\n",
    "\n",
    "        # Diffusion operator\n",
    "        grover_circ.append(diffusion(n), range(n))\n",
    "\n",
    "    # Measure the qubits\n",
    "    grover_circ.measure(range(n), range(n))\n",
    "\n",
    "    return grover_circ\n",
    "\n",
    "def oracle(n):\n",
    "    # Oracle operator for the marked item\n",
    "    oracle_circ = QuantumCircuit(n)\n",
    "\n",
    "    # Implement the oracle using X gates for each qubit marked with '1'\n",
    "    for qubit in range(n):\n",
    "        oracle_circ.x(qubit)  # Apply X gate for marked qubits\n",
    "\n",
    "    # Implement controlled-Z gate (multi-controlled NOT gate)\n",
    "    oracle_circ.h(n-1)\n",
    "    oracle_circ.mct(list(range(n-1)), n-1)  # Multi-controlled NOT gate\n",
    "    oracle_circ.h(n-1)\n",
    "\n",
    "    return oracle_circ.to_gate()\n",
    "\n",
    "def diffusion(n):\n",
    "    # Diffusion operator for amplitude amplification\n",
    "    diffusion_circ = QuantumCircuit(n)\n",
    "\n",
    "    # Apply Hadamard gates\n",
    "    diffusion_circ.h(range(n))\n",
    "\n",
    "    # Apply X gates\n",
    "    diffusion_circ.x(range(n))\n",
    "\n",
    "    # Implement controlled-Z gate (multi-controlled NOT gate)\n",
    "    diffusion_circ.h(n-1)\n",
    "    diffusion_circ.mct(list(range(n-1)), n-1)  # Multi-controlled NOT gate\n",
    "    diffusion_circ.h(n-1)\n",
    "\n",
    "    # Apply X gates\n",
    "    diffusion_circ.x(range(n))\n",
    "\n",
    "    # Apply Hadamard gates\n",
    "    diffusion_circ.h(range(n))\n",
    "\n",
    "    return diffusion_circ.to_gate()\n",
    "\n",
    "# Define the marked item (binary representation)\n",
    "marked_item = '110'\n",
    "\n",
    "# Number of qubits\n",
    "n = len(marked_item)\n",
    "\n",
    "# Create the Grover circuit\n",
    "grover_circuit = grover_circuit(n, marked_item)\n",
    "\n",
    "# Transpile the circuit for the quantum backend\n",
    "transpiled_circuit = transpile(grover_circuit, qcomp)\n",
    "\n",
    "# Simulate the circuit to see the result\n",
    "simulator = Aer.get_backend('qasm_simulator')\n",
    "result = simulator.run(assemble(transpiled_circuit)).result()\n",
    "\n",
    "# Plot the histogram of measurement outcomes\n",
    "counts = result.get_counts()\n",
    "plot_histogram(counts)\n"
   ]
  },
  {
   "cell_type": "code",
   "execution_count": null,
   "id": "3f2f2d3f",
   "metadata": {},
   "outputs": [],
   "source": []
  }
 ],
 "metadata": {
  "kernelspec": {
   "display_name": "Python 3 (ipykernel)",
   "language": "python",
   "name": "python3"
  },
  "language_info": {
   "codemirror_mode": {
    "name": "ipython",
    "version": 3
   },
   "file_extension": ".py",
   "mimetype": "text/x-python",
   "name": "python",
   "nbconvert_exporter": "python",
   "pygments_lexer": "ipython3",
   "version": "3.10.9"
  }
 },
 "nbformat": 4,
 "nbformat_minor": 5
}
